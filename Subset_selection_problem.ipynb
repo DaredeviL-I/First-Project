{
 "cells": [
  {
   "cell_type": "markdown",
   "id": "6a0d1543",
   "metadata": {},
   "source": [
    "Subset Selection Problem\n",
    "1. Problem Statement:\n",
    "Find all the subsets from a set of numbers whose sum is zero.\n",
    "Constraint: Subset size must be 5\n",
    "Set={-12, -3, -6, 7, 2, -2, 6, 3, 9, -7, -5, -8, 1, 11, -9, -4}\n",
    "2. Problem Statement:\n",
    "Find all the subsets from a set of numbers whose sum is zero.\n",
    "Constraint: Subset size must be 3 to 6 only\n",
    "Set={-12, -3, -6, 7, 2, -2, 6, 3, 9, -7, -5, -8, 1, 11, -9, -4}\n"
   ]
  },
  {
   "cell_type": "code",
   "execution_count": null,
   "id": "74476b4c",
   "metadata": {},
   "outputs": [],
   "source": [
    "from itertools import combinations\n",
    "\n",
    "# Given set\n",
    "S = [-12, -3, -6, 7, 2, -2, 6, 3, 9, -7, -5, -8, 1, 11, -9, -4]\n",
    "\n",
    "# Find all subsets of size 5 whose sum is 0\n",
    "result = [list(comb) for comb in combinations(S, 5) if sum(comb) == 0]\n",
    "\n",
    "# Print results\n",
    "print(\"Subsets of size 5 with sum 0:\")\n",
    "for subset in result:\n",
    "    print(subset)\n",
    "\n",
    "print(f\"\\nTotal subsets found: {len(result)}\")\n"
   ]
  },
  {
   "cell_type": "code",
   "execution_count": null,
   "id": "dc8fc417",
   "metadata": {},
   "outputs": [],
   "source": [
    "from itertools import combinations\n",
    "\n",
    "S = [-12, -3, -6, 7, 2, -2, 6, 3, 9, -7, -5, -8, 1, 11, -9, -4]\n",
    "\n",
    "result = []\n",
    "\n",
    "for r in range(3, 7):  # Sizes from 3 to 6\n",
    "    for comb in combinations(S, r):\n",
    "        if sum(comb) == 0:\n",
    "            result.append(list(comb))\n",
    "\n",
    "# Print results\n",
    "print(\"Subsets of size 3 to 6 with sum 0:\")\n",
    "for subset in result:\n",
    "    print(subset)\n",
    "\n",
    "print(f\"\\nTotal subsets found: {len(result)}\")\n"
   ]
  }
 ],
 "metadata": {
  "language_info": {
   "name": "python"
  }
 },
 "nbformat": 4,
 "nbformat_minor": 5
}
